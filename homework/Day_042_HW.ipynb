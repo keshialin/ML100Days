{
 "cells": [
  {
   "cell_type": "markdown",
   "metadata": {},
   "source": [
    "## [作業重點]\n",
    "目前你應該已經要很清楚資料集中，資料的型態是什麼樣子囉！包含特徵 (features) 與標籤 (labels)。因此要記得未來不管什麼專案，必須要把資料清理成相同的格式，才能送進模型訓練。\n",
    "今天的作業開始踏入決策樹這個非常重要的模型，請務必確保你理解模型中每個超參數的意思，並試著調整看看，對最終預測結果的影響為何"
   ]
  },
  {
   "cell_type": "markdown",
   "metadata": {},
   "source": [
    "## 作業\n",
    "\n",
    "1. 試著調整 DecisionTreeClassifier(...) 中的參數，並觀察是否會改變結果？\n",
    "2. 改用其他資料集 (boston, wine)，並與回歸模型的結果進行比較"
   ]
  },
  {
   "cell_type": "code",
   "execution_count": 2,
   "metadata": {},
   "outputs": [],
   "source": [
    "from sklearn import datasets, metrics\n",
    "\n",
    "# 如果是分類問題，請使用 DecisionTreeClassifier，若為回歸問題，請使用 DecisionTreeRegressor\n",
    "from sklearn.tree import DecisionTreeClassifier, DecisionTreeRegressor\n",
    "from sklearn.model_selection import train_test_split"
   ]
  },
  {
   "cell_type": "code",
   "execution_count": 37,
   "metadata": {},
   "outputs": [],
   "source": [
    "# 讀取鳶尾花資料集\n",
    "iris = datasets.load_iris()\n",
    "\n",
    "# 切分訓練集/測試集\n",
    "x_train, x_test, y_train, y_test = train_test_split(iris.data, iris.target, test_size=0.25, random_state=4)\n",
    "\n",
    "# 建立模型, 進行min_samples_leaf的敏感度分析\n",
    "sensitivity = [0.5,1,2,3]\n",
    "for i,x in zip(sensitivity, range(0,len(sensitivity))):\n",
    "    globals()['clf_%s' % x] = DecisionTreeClassifier(criterion=\"entropy\",min_samples_leaf=i)\n",
    "\n",
    "# 訓練模型\n",
    "for x in range(0,len(sensitivity)):\n",
    "    globals()['clf_%s' % x].fit(x_train, y_train)\n",
    "    globals()['y_pred_%s' % x] = globals()['clf_%s' % x].predict(x_test)\n"
   ]
  },
  {
   "cell_type": "code",
   "execution_count": 38,
   "metadata": {},
   "outputs": [
    {
     "name": "stdout",
     "output_type": "stream",
     "text": [
      "Acuuracy_0 = 0.7368421052631579\n",
      "Acuuracy_1 = 0.9736842105263158\n",
      "Acuuracy_2 = 0.9736842105263158\n",
      "Acuuracy_3 = 0.9736842105263158\n"
     ]
    }
   ],
   "source": [
    "for x in range(0,len(sensitivity)):\n",
    "    globals()['acc_%s' % x]= metrics.accuracy_score(y_test, globals()['y_pred_%s' % x])\n",
    "    print(\"Acuuracy_{label} = {acc}\".format(label= x, acc = globals()['acc_%s' % x]))\n"
   ]
  },
  {
   "cell_type": "code",
   "execution_count": 47,
   "metadata": {},
   "outputs": [],
   "source": [
    "sensitivity_plt = [globals()['acc_%s' % i] for i in range(0,len(sensitivity))]"
   ]
  },
  {
   "cell_type": "code",
   "execution_count": 51,
   "metadata": {},
   "outputs": [
    {
     "data": {
      "text/plain": [
       "[<matplotlib.lines.Line2D at 0x1a78d993be0>]"
      ]
     },
     "execution_count": 51,
     "metadata": {},
     "output_type": "execute_result"
    },
    {
     "data": {
      "image/png": "[encoded data removed]",
      "text/plain": [
       "<Figure size 432x288 with 1 Axes>"
      ]
     },
     "metadata": {
      "needs_background": "light"
     },
     "output_type": "display_data"
    }
   ],
   "source": [
    "import matplotlib.pyplot as plt\n",
    "x = [x for x in range(0,len(sensitivity))]\n",
    "plt.plot(sensitivity_plt)"
   ]
  },
  {
   "cell_type": "markdown",
   "metadata": {},
   "source": [
    "min_samples_leaf為0.5時準確度會較低，大於1之後則不會影響結果"
   ]
  },
  {
   "cell_type": "code",
   "execution_count": 40,
   "metadata": {},
   "outputs": [
    {
     "data": {
      "text/plain": [
       "array([0, 1, 0, 0, 0, 1, 2, 2, 0, 1, 1, 0, 1, 2, 1, 1, 0, 2, 1, 2, 0, 1,\n",
       "       0, 1, 0, 2, 2, 2, 2, 1, 1, 0, 2, 0, 1, 2, 0, 1, 0, 2, 1, 1, 0, 1,\n",
       "       1, 1, 0, 1, 1, 1, 2, 1, 1, 1, 1, 0, 0, 0, 2, 0, 1, 2, 2, 0, 1, 0,\n",
       "       1, 1, 0, 2, 1, 1, 2, 2, 1, 1, 1, 2, 2, 1, 0, 1, 0, 2, 1, 1, 0, 0,\n",
       "       1, 0, 0, 0, 2, 0, 2, 2, 0, 1, 1, 2, 0, 1, 1, 0, 0, 0, 1, 1, 0, 2,\n",
       "       2, 1, 1, 1, 0, 2, 2, 2, 2, 2, 1, 0, 0, 2, 1, 1, 2, 1, 2, 2, 1, 2,\n",
       "       0])"
      ]
     },
     "execution_count": 40,
     "metadata": {},
     "output_type": "execute_result"
    }
   ],
   "source": [
    "wine =datasets.load_wine()\n",
    "x_train , x_test , y_train , y_test = train_test_split(wine.data , wine.target ,  test_size=0.25, random_state=1)"
   ]
  },
  {
   "cell_type": "code",
   "execution_count": 43,
   "metadata": {},
   "outputs": [],
   "source": [
    "# 建立模型\n",
    "clf = DecisionTreeClassifier()\n",
    "\n",
    "# 訓練模型\n",
    "clf.fit(x_train, y_train)\n",
    "\n",
    "# 預測測試集\n",
    "y_pred = clf.predict(x_test)"
   ]
  },
  {
   "cell_type": "code",
   "execution_count": 44,
   "metadata": {},
   "outputs": [
    {
     "name": "stdout",
     "output_type": "stream",
     "text": [
      "Acuuracy:  0.9555555555555556\n"
     ]
    }
   ],
   "source": [
    "acc = metrics.accuracy_score(y_test, y_pred)\n",
    "print(\"Acuuracy: \", acc)"
   ]
  },
  {
   "cell_type": "code",
   "execution_count": 52,
   "metadata": {},
   "outputs": [],
   "source": [
    "boston = datasets.load_boston()\n",
    "x_train , x_test , y_train , y_test = train_test_split(boston.data , boston.target ,  test_size=0.25 , random_state=1)"
   ]
  },
  {
   "cell_type": "code",
   "execution_count": 53,
   "metadata": {},
   "outputs": [],
   "source": [
    "# 建立模型\n",
    "clf = DecisionTreeRegressor()\n",
    "\n",
    "# 訓練模型\n",
    "clf.fit(x_train, y_train)\n",
    "\n",
    "# 預測測試集\n",
    "y_pred = clf.predict(x_test)"
   ]
  },
  {
   "cell_type": "code",
   "execution_count": 57,
   "metadata": {},
   "outputs": [
    {
     "name": "stdout",
     "output_type": "stream",
     "text": [
      "Acuuracy:  14.909055118110235\n"
     ]
    }
   ],
   "source": [
    "acc = metrics.mean_squared_error(y_test, y_pred)\n",
    "print(\"Acuuracy: \", acc)"
   ]
  },
  {
   "cell_type": "code",
   "execution_count": null,
   "metadata": {},
   "outputs": [],
   "source": []
  }
 ],
 "metadata": {
  "kernelspec": {
   "display_name": "Python 3",
   "language": "python",
   "name": "python3"
  },
  "language_info": {
   "codemirror_mode": {
    "name": "ipython",
    "version": 3
   },
   "file_extension": ".py",
   "mimetype": "text/x-python",
   "name": "python",
   "nbconvert_exporter": "python",
   "pygments_lexer": "ipython3",
   "version": "3.7.1"
  }
 },
 "nbformat": 4,
 "nbformat_minor": 2
}
