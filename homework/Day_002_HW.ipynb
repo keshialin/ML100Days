{
 "cells": [
  {
   "cell_type": "markdown",
   "metadata": {},
   "source": [
    "機器學習概論 (申論題)"
   ]
  },
  {
   "cell_type": "markdown",
   "metadata": {},
   "source": [
    "## [作業目標]\n",
    "了解機器學習適合應用的領域與範疇。"
   ]
  },
  {
   "cell_type": "markdown",
   "metadata": {},
   "source": [
    "## [作業重點]\n",
    "透過瞭解機器學習的運作方式，找出非常適用機器學習應用的領域及其原因"
   ]
  },
  {
   "cell_type": "markdown",
   "metadata": {},
   "source": [
    "## 作業\n",
    "請找出一個你認為機器學習可以發光發熱的領域並闡述原因? "
   ]
  },
  {
   "cell_type": "markdown",
   "metadata": {},
   "source": [
    "機械設備領域。假設有產品在製造過程中出現缺陷（Defect），可以透過機器學習的方式進行光學檢測，協助辨識產品是否有缺陷，節省人力也提高準確率。此外，也可透過機器學習方法分析機台參數，進而在機台損壞前發出預保養警示。機器學習可以在機械設備領域發光發熱的原因是生產製造非常注重效率及準確性，而機器學習可以在大量的資料提取有效的規律性，有機會注意到人工未發現的規則外，因為沒有人腦記憶的問題（忘記/漏記），在識別缺陷及針對機台異常做出預保養的速度及準確性皆可有所提升。"
   ]
  }
 ],
 "metadata": {
  "kernelspec": {
   "display_name": "Python 3",
   "language": "python",
   "name": "python3"
  },
  "language_info": {
   "codemirror_mode": {
    "name": "ipython",
    "version": 3
   },
   "file_extension": ".py",
   "mimetype": "text/x-python",
   "name": "python",
   "nbconvert_exporter": "python",
   "pygments_lexer": "ipython3",
   "version": "3.7.1"
  }
 },
 "nbformat": 4,
 "nbformat_minor": 2
}
